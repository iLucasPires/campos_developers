{
 "cells": [
  {
   "attachments": {},
   "cell_type": "markdown",
   "metadata": {},
   "source": [
    "# Crie um programa que escreva \"Olá, Mundo!\" na tela."
   ]
  },
  {
   "cell_type": "code",
   "execution_count": 2,
   "metadata": {},
   "outputs": [
    {
     "name": "stdout",
     "output_type": "stream",
     "text": [
      "Olá, mundo!\n"
     ]
    }
   ],
   "source": [
    "print('Olá, Mundo!')"
   ]
  },
  {
   "attachments": {},
   "cell_type": "markdown",
   "metadata": {},
   "source": [
    "# Faça um programa que leia o nome de uma pessoa e mostre uma mensagem de boas-vindas."
   ]
  },
  {
   "cell_type": "code",
   "execution_count": 6,
   "metadata": {},
   "outputs": [
    {
     "name": "stdout",
     "output_type": "stream",
     "text": [
      "Sejam bem vindos Vitor e Vinicius.\n"
     ]
    }
   ],
   "source": [
    "# nome = input('Digite um nome: ')\n",
    "# nome2 = input('Digite outro nome: ')\n",
    "# print(f'Sejam bem vindos {nome} e {nome2}!')\n",
    "\n",
    "nome = 'Vitor'\n",
    "nome2 = 'Vinicius'\n",
    "print(f'Sejam bem vindos {nome} e {nome2}.')"
   ]
  },
  {
   "attachments": {},
   "cell_type": "markdown",
   "metadata": {},
   "source": [
    "# Crie um programa que leia dois número e mostre a soma entre eles."
   ]
  },
  {
   "cell_type": "code",
   "execution_count": 5,
   "metadata": {},
   "outputs": [
    {
     "name": "stdout",
     "output_type": "stream",
     "text": [
      "A soma entre 10 e 20 é 30.\n"
     ]
    }
   ],
   "source": [
    "numero = int(input('Digite um número: '))\n",
    "numero2 = int(input('Digite outro número: '))\n",
    "\n",
    "print(f'A soma entre {numero} e {numero2} é {numero + numero2}.')"
   ]
  },
  {
   "attachments": {},
   "cell_type": "markdown",
   "metadata": {},
   "source": [
    "# Faça um programa que leia algo pelo teclado e mostre na tela o seu tipo primitivo e todas as informações possiveis sobre ele."
   ]
  },
  {
   "cell_type": "code",
   "execution_count": 3,
   "metadata": {},
   "outputs": [
    {
     "name": "stdout",
     "output_type": "stream",
     "text": [
      "O tipo primitivo desse valor é <class 'str'>\n",
      "Só tem espaços? False\n",
      "É um número? False\n",
      "É alfabético? True\n",
      "É alfanumérico? True\n",
      "Está em maiúsculas? False\n",
      "Está em minúsculas? True\n",
      "Está capitalizada? False\n"
     ]
    }
   ],
   "source": [
    "variavel = input('Digite algo: ')\n",
    "print(f'O tipo primitivo desse valor é {type(variavel)}')\n",
    "print(f'Só tem espaços? {variavel.isspace()}')\n",
    "print(f'É um número? {variavel.isnumeric()}')\n",
    "print(f'É alfabético? {variavel.isalpha()}')\n",
    "print(f'É alfanumérico? {variavel.isalnum()}')\n",
    "print(f'Está em maiúsculas? {variavel.isupper()}')\n",
    "print(f'Está em minúsculas? {variavel.islower()}')\n",
    "print(f'Está capitalizada? {variavel.istitle()}')\n"
   ]
  },
  {
   "attachments": {},
   "cell_type": "markdown",
   "metadata": {},
   "source": [
    "# Faça um programa que leia um número inteiro e mostre na tela o seu sucessor e seu antecessor."
   ]
  },
  {
   "cell_type": "code",
   "execution_count": 4,
   "metadata": {},
   "outputs": [
    {
     "name": "stdout",
     "output_type": "stream",
     "text": [
      "Analizando o numero 10, seu antecessor é 9 e seu sucessor é 11.\n"
     ]
    }
   ],
   "source": [
    "numero = int(input('Digite um número: '))\n",
    "print(f'Analizando o numero {numero}, seu antecessor é {numero - 1} e seu sucessor é {numero + 1}.')"
   ]
  }
 ],
 "metadata": {
  "kernelspec": {
   "display_name": "venv",
   "language": "python",
   "name": "python3"
  },
  "language_info": {
   "codemirror_mode": {
    "name": "ipython",
    "version": 3
   },
   "file_extension": ".py",
   "mimetype": "text/x-python",
   "name": "python",
   "nbconvert_exporter": "python",
   "pygments_lexer": "ipython3",
   "version": "3.10.6"
  },
  "orig_nbformat": 4
 },
 "nbformat": 4,
 "nbformat_minor": 2
}
